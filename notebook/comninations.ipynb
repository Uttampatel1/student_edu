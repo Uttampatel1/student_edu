{
 "cells": [
  {
   "cell_type": "code",
   "execution_count": 2,
   "metadata": {},
   "outputs": [],
   "source": [
    "import pandas as pd\n",
    "import numpy as np\n",
    "from sklearn.model_selection import train_test_split, GridSearchCV\n",
    "from sklearn.ensemble import GradientBoostingRegressor, RandomForestRegressor\n",
    "from sklearn.svm import SVR\n",
    "from sklearn.neighbors import KNeighborsRegressor\n",
    "from sklearn.tree import DecisionTreeRegressor\n",
    "from sklearn.linear_model import ElasticNet, Lasso, Ridge, LinearRegression\n",
    "from sklearn.metrics import mean_squared_error, r2_score\n",
    "from sklearn.preprocessing import StandardScaler, OneHotEncoder\n",
    "from sklearn.compose import ColumnTransformer\n",
    "from sklearn.pipeline import Pipeline\n",
    "from sklearn.impute import SimpleImputer\n",
    "import joblib\n",
    "import os\n"
   ]
  },
  {
   "cell_type": "code",
   "execution_count": 3,
   "metadata": {},
   "outputs": [],
   "source": [
    "def load_and_preprocess_data(file_path, target_column):\n",
    "    df = pd.read_csv(file_path)\n",
    "    X = df.drop(target_column, axis=1)\n",
    "    y = df[target_column]\n",
    "    numerical_cols = X.select_dtypes(include=['int64', 'float64']).columns\n",
    "    categorical_cols = X.select_dtypes(include=['object', 'bool']).columns\n",
    "    numerical_transformer = Pipeline(steps=[\n",
    "        ('imputer', SimpleImputer(strategy='mean')),\n",
    "        ('scaler', StandardScaler())])\n",
    "\n",
    "    categorical_transformer = Pipeline(steps=[\n",
    "        ('imputer', SimpleImputer(strategy='most_frequent')),\n",
    "        ('onehot', OneHotEncoder(handle_unknown='ignore'))])\n",
    "\n",
    "    preprocessor = ColumnTransformer(transformers=[\n",
    "        ('num', numerical_transformer, numerical_cols),\n",
    "        ('cat', categorical_transformer, categorical_cols)])\n",
    "\n",
    "    X_train, X_test, y_train, y_test = train_test_split(X, y, test_size=0.2, random_state=42)\n",
    "\n",
    "    return X_train, X_test, y_train, y_test, preprocessor\n"
   ]
  },
  {
   "cell_type": "code",
   "execution_count": 4,
   "metadata": {},
   "outputs": [],
   "source": [
    "def categorize_scores(scores):\n",
    "    categories = []\n",
    "    for score in scores:\n",
    "        if score < 50:\n",
    "            categories.append('Fail')\n",
    "        elif 50 <= score < 60:\n",
    "            categories.append('Second Class')\n",
    "        elif 60 <= score < 75:\n",
    "            categories.append('First Class')\n",
    "        else:\n",
    "            categories.append('First Class with Distinction')\n",
    "    return categories"
   ]
  },
  {
   "cell_type": "code",
   "execution_count": 5,
   "metadata": {},
   "outputs": [],
   "source": [
    "def train_and_evaluate(X_train, X_test, y_train, y_test, preprocessor, regressor, param_grid, algo_name , model_save_path):\n",
    "    model = Pipeline(steps=[('preprocessor', preprocessor),\n",
    "                            ('regressor', regressor)])\n",
    "    \n",
    "    grid_search = GridSearchCV(model, param_grid, cv=5, scoring='neg_mean_squared_error')\n",
    "    grid_search.fit(X_train, y_train)\n",
    "\n",
    "    best_model = grid_search.best_estimator_\n",
    "    \n",
    "    # Save the best model using joblib\n",
    "    joblib.dump(best_model, os.path.join(model_save_path ,f'best_model_{algo_name.replace(\" \", \"_\").lower()}.joblib'))\n",
    "\n",
    "    y_pred = best_model.predict(X_test)\n",
    "\n",
    "    mse = mean_squared_error(y_test, y_pred)\n",
    "    r2 = r2_score(y_test, y_pred)\n",
    "\n",
    "    print(f\"Best Parameters: {grid_search.best_params_}\")\n",
    "    print(\"MSE:\", mse, \"R2:\", r2)\n",
    "\n",
    "    return y_pred, y_test\n"
   ]
  },
  {
   "cell_type": "code",
   "execution_count": 6,
   "metadata": {},
   "outputs": [],
   "source": [
    "def categorize_scores(scores):\n",
    "    categories = []\n",
    "    for score in scores:\n",
    "        if score < 50:\n",
    "            categories.append('Fail')\n",
    "        elif 50 <= score < 60:\n",
    "            categories.append('Second Class')\n",
    "        elif 60 <= score < 75:\n",
    "            categories.append('First Class')\n",
    "        else:\n",
    "            categories.append('First Class with Distinction')\n",
    "    return categories"
   ]
  },
  {
   "cell_type": "code",
   "execution_count": 7,
   "metadata": {},
   "outputs": [],
   "source": [
    "def save_results_to_csv(y_test, final_predictions, categories, algo_name , save_re_path):\n",
    "    results_df = pd.DataFrame({\n",
    "        'Actual Score': list(y_test),\n",
    "        'Predicted Score': final_predictions,\n",
    "        'Category': categories\n",
    "    })\n",
    "\n",
    "    results_df.to_csv(os.path.join(save_re_path,f'model_predictions_{algo_name.replace(\" \", \"_\").lower()}.csv'), index=False)\n",
    "    print(f\"Results have been exported to 'model_predictions_{algo_name.replace(' ', '_').lower()}.csv'.\")\n",
    "\n",
    "\n"
   ]
  },
  {
   "cell_type": "code",
   "execution_count": 8,
   "metadata": {},
   "outputs": [],
   "source": [
    "algorithms = [\n",
    "    # Model 1\n",
    "    ('Gradient Boosting', GradientBoostingRegressor(), {'regressor__n_estimators': [40, 50, 100, 150]}),\n",
    "    \n",
    "    # Model 2\n",
    "    ('Random Forest', RandomForestRegressor(), {'regressor__n_estimators': [40, 50, 100, 150], 'regressor__max_depth': [None, 10, 20]})\n",
    "]"
   ]
  },
  {
   "cell_type": "code",
   "execution_count": 9,
   "metadata": {},
   "outputs": [],
   "source": [
    "final_df_path = \"../data/final.csv\"\n",
    "model_save_path = '../models'\n",
    "save_re_path = '../save_results'"
   ]
  },
  {
   "cell_type": "code",
   "execution_count": 10,
   "metadata": {},
   "outputs": [
    {
     "name": "stdout",
     "output_type": "stream",
     "text": [
      "\n",
      "Training and evaluating using Gradient Boosting...\n",
      "Best Parameters: {'regressor__n_estimators': 100}\n",
      "MSE: 2.896275248716764e-05 R2: 0.9999996940882271\n",
      "Results have been exported to 'model_predictions_gradient_boosting.csv'.\n",
      "\n",
      "Training and evaluating using Random Forest...\n",
      "Best Parameters: {'regressor__max_depth': 10, 'regressor__n_estimators': 100}\n",
      "MSE: 0.002612026359143316 R2: 0.9999724111299592\n",
      "Results have been exported to 'model_predictions_random_forest.csv'.\n"
     ]
    }
   ],
   "source": [
    "# Iterate over each model\n",
    "for algo_name, regressor, param_grid in algorithms:\n",
    "    print(f\"\\nTraining and evaluating using {algo_name}...\")\n",
    "    \n",
    "    X_train_pf, X_test_pf, y_train_pf, y_test_pf, preprocessor_pf = load_and_preprocess_data(final_df_path, 'Score')\n",
    "   \n",
    "    predictions_pf, y_test_pf = train_and_evaluate(X_train_pf, X_test_pf, y_train_pf, y_test_pf, preprocessor_pf, regressor, param_grid, algo_name , model_save_path)\n",
    "   \n",
    "    # Save predictions for each model\n",
    "    joblib.dump(predictions_pf, os.path.join(model_save_path, f'predictions_{algo_name.replace(\" \", \"_\").lower()}.joblib'))\n",
    "    \n",
    "    # Display results for each model\n",
    "    final_predictions = np.maximum.reduce([predictions_pf])\n",
    "    categories = categorize_scores(final_predictions)\n",
    "\n",
    "    save_results_to_csv(y_test_pf, final_predictions, categories, algo_name , save_re_path)\n"
   ]
  },
  {
   "cell_type": "code",
   "execution_count": 11,
   "metadata": {},
   "outputs": [],
   "source": [
    "# Combine predictions from both models (simple averaging)\n",
    "predictions_gb = joblib.load(os.path.join(model_save_path, 'predictions_gradient_boosting.joblib'))\n",
    "predictions_rf = joblib.load(os.path.join(model_save_path, 'predictions_random_forest.joblib'))\n",
    "\n",
    "final_predictions_combined = (predictions_gb + predictions_rf) / 2\n",
    "\n",
    "# Categorize scores for combined predictions\n",
    "categories_combined = categorize_scores(final_predictions_combined)"
   ]
  },
  {
   "cell_type": "code",
   "execution_count": 12,
   "metadata": {},
   "outputs": [
    {
     "name": "stdout",
     "output_type": "stream",
     "text": [
      "Results have been exported to 'model_predictions_combined_models.csv'.\n",
      "Accuracy for combined models: 100.00%\n"
     ]
    }
   ],
   "source": [
    "\n",
    "# Additional function to calculate accuracy\n",
    "def calculate_accuracy(y_true, y_pred):\n",
    "    correct_predictions = sum(1 for true, pred in zip(y_true, y_pred) if true == pred)\n",
    "    total_predictions = len(y_true)\n",
    "    accuracy = correct_predictions / total_predictions * 100\n",
    "    return accuracy\n",
    "\n",
    "# Save results for combined predictions\n",
    "save_results_to_csv(y_test_pf, final_predictions_combined, categories_combined, 'combined_models', save_re_path)\n",
    "\n",
    "# Print accuracy for categories_combined\n",
    "actual_categories = categorize_scores(y_test_pf)\n",
    "accuracy_combined = calculate_accuracy(actual_categories, categories_combined)\n",
    "print(f\"Accuracy for combined models: {accuracy_combined:.2f}%\")"
   ]
  },
  {
   "cell_type": "code",
   "execution_count": null,
   "metadata": {},
   "outputs": [],
   "source": []
  },
  {
   "cell_type": "code",
   "execution_count": null,
   "metadata": {},
   "outputs": [],
   "source": []
  }
 ],
 "metadata": {
  "kernelspec": {
   "display_name": "ai_exp",
   "language": "python",
   "name": "python3"
  },
  "language_info": {
   "codemirror_mode": {
    "name": "ipython",
    "version": 3
   },
   "file_extension": ".py",
   "mimetype": "text/x-python",
   "name": "python",
   "nbconvert_exporter": "python",
   "pygments_lexer": "ipython3",
   "version": "3.8.18"
  }
 },
 "nbformat": 4,
 "nbformat_minor": 2
}
